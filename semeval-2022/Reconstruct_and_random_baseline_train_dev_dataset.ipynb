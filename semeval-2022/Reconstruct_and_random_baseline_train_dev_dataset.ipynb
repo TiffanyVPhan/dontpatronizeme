{
 "cells": [
  {
   "cell_type": "code",
   "execution_count": 1,
   "metadata": {
    "id": "HpRLLRzkTwdL"
   },
   "outputs": [],
   "source": [
    "import random\n",
    "import os\n",
    "from urllib import request\n",
    "import pandas as pd\n",
    "from sklearn.model_selection import StratifiedKFold,train_test_split,KFold\n",
    "from collections import Counter,defaultdict\n",
    "from sklearn.preprocessing import LabelEncoder,MultiLabelBinarizer\n",
    "from sklearn.metrics import classification_report\n",
    "import numpy as np"
   ]
  },
  {
   "cell_type": "code",
   "execution_count": 2,
   "metadata": {
    "id": "z7V3LpZwFsIW"
   },
   "outputs": [],
   "source": [
    "# helper function to save predictions to an output file\n",
    "def labels2file(p, outf_path):\n",
    "\twith open(outf_path,'w') as outf:\n",
    "\t\tfor pi in p:\n",
    "\t\t\toutf.write(','.join([str(k) for k in pi])+'\\n')"
   ]
  },
  {
   "cell_type": "code",
   "execution_count": 3,
   "metadata": {
    "colab": {
     "base_uri": "https://localhost:8080/"
    },
    "id": "UW903YxwThrH",
    "outputId": "098e5744-d163-46f6-89da-6f00096303ba"
   },
   "outputs": [
    {
     "name": "stdout",
     "output_type": "stream",
     "text": [
      "Fetching https://raw.githubusercontent.com/Perez-AlmendrosC/dontpatronizeme/master/semeval-2022/dont_patronize_me.py\n"
     ]
    }
   ],
   "source": [
    "module_url = f\"https://raw.githubusercontent.com/Perez-AlmendrosC/dontpatronizeme/master/semeval-2022/dont_patronize_me.py\"\n",
    "module_name = module_url.split('/')[-1]\n",
    "print(f'Fetching {module_url}')\n",
    "#with open(\"file_1.txt\") as f1, open(\"file_2.txt\") as f2\n",
    "with request.urlopen(module_url) as f, open(module_name,'w') as outf:\n",
    "  a = f.read()\n",
    "  outf.write(a.decode('utf-8'))"
   ]
  },
  {
   "cell_type": "code",
   "execution_count": 4,
   "metadata": {
    "id": "gcDThFWVBxGb"
   },
   "outputs": [],
   "source": [
    "from dont_patronize_me import DontPatronizeMe"
   ]
  },
  {
   "cell_type": "code",
   "execution_count": 5,
   "metadata": {
    "id": "3Ay5_5Y0ThrI"
   },
   "outputs": [],
   "source": [
    "dpm = DontPatronizeMe('.', '.')"
   ]
  },
  {
   "cell_type": "code",
   "execution_count": 7,
   "metadata": {
    "id": "8AReWYHYOUqx"
   },
   "outputs": [],
   "source": [
    "teids = pd.read_csv('./practice splits/dev_semeval_parids-labels.csv')"
   ]
  },
  {
   "cell_type": "code",
   "execution_count": 8,
   "metadata": {
    "colab": {
     "base_uri": "https://localhost:8080/",
     "height": 205
    },
    "id": "RtJNrN1_T5ia",
    "outputId": "3d72191d-981a-4611-f036-89d21faf2e9a"
   },
   "outputs": [
    {
     "data": {
      "text/html": [
       "<div>\n",
       "<style scoped>\n",
       "    .dataframe tbody tr th:only-of-type {\n",
       "        vertical-align: middle;\n",
       "    }\n",
       "\n",
       "    .dataframe tbody tr th {\n",
       "        vertical-align: top;\n",
       "    }\n",
       "\n",
       "    .dataframe thead th {\n",
       "        text-align: right;\n",
       "    }\n",
       "</style>\n",
       "<table border=\"1\" class=\"dataframe\">\n",
       "  <thead>\n",
       "    <tr style=\"text-align: right;\">\n",
       "      <th></th>\n",
       "      <th>par_id</th>\n",
       "      <th>label</th>\n",
       "    </tr>\n",
       "  </thead>\n",
       "  <tbody>\n",
       "    <tr>\n",
       "      <th>0</th>\n",
       "      <td>4046</td>\n",
       "      <td>[1, 0, 0, 1, 0, 0, 0]</td>\n",
       "    </tr>\n",
       "    <tr>\n",
       "      <th>1</th>\n",
       "      <td>1279</td>\n",
       "      <td>[0, 1, 0, 0, 0, 0, 0]</td>\n",
       "    </tr>\n",
       "    <tr>\n",
       "      <th>2</th>\n",
       "      <td>8330</td>\n",
       "      <td>[0, 0, 1, 0, 0, 0, 0]</td>\n",
       "    </tr>\n",
       "    <tr>\n",
       "      <th>3</th>\n",
       "      <td>4063</td>\n",
       "      <td>[1, 0, 0, 1, 1, 1, 0]</td>\n",
       "    </tr>\n",
       "    <tr>\n",
       "      <th>4</th>\n",
       "      <td>4089</td>\n",
       "      <td>[1, 0, 0, 0, 0, 0, 0]</td>\n",
       "    </tr>\n",
       "  </tbody>\n",
       "</table>\n",
       "</div>"
      ],
      "text/plain": [
       "   par_id                  label\n",
       "0    4046  [1, 0, 0, 1, 0, 0, 0]\n",
       "1    1279  [0, 1, 0, 0, 0, 0, 0]\n",
       "2    8330  [0, 0, 1, 0, 0, 0, 0]\n",
       "3    4063  [1, 0, 0, 1, 1, 1, 0]\n",
       "4    4089  [1, 0, 0, 0, 0, 0, 0]"
      ]
     },
     "execution_count": 8,
     "metadata": {},
     "output_type": "execute_result"
    }
   ],
   "source": [
    "teids.head()"
   ]
  },
  {
   "cell_type": "markdown",
   "metadata": {
    "id": "xK6FY70KZ6TY"
   },
   "source": [
    "# Random Baseline"
   ]
  },
  {
   "cell_type": "markdown",
   "metadata": {
    "id": "MJiUpuKmZ9dy"
   },
   "source": [
    "## Task 1\n",
    "\n"
   ]
  },
  {
   "cell_type": "code",
   "execution_count": 9,
   "metadata": {
    "id": "PoW_s23AZ_DG"
   },
   "outputs": [],
   "source": [
    "res = [[random.choice([0,1])] for k in range(len(teids))]"
   ]
  },
  {
   "cell_type": "code",
   "execution_count": 10,
   "metadata": {
    "id": "kzupJuwTafKa"
   },
   "outputs": [],
   "source": [
    "labels2file(res, 'task1.txt')"
   ]
  },
  {
   "cell_type": "markdown",
   "metadata": {
    "id": "YKFiVaslbAiC"
   },
   "source": [
    "## Task 2"
   ]
  },
  {
   "cell_type": "code",
   "execution_count": null,
   "metadata": {
    "id": "ECb7_mwzbFa6"
   },
   "outputs": [],
   "source": [
    "res = [[random.choice([0,1]) for k in range(7)] for k in range(0,len(teids))]"
   ]
  },
  {
   "cell_type": "code",
   "execution_count": null,
   "metadata": {
    "id": "0211sxhsbbWZ"
   },
   "outputs": [],
   "source": [
    "labels2file(res, 'task2.txt')"
   ]
  },
  {
   "cell_type": "markdown",
   "metadata": {
    "id": "RT8hjnxbbfJq"
   },
   "source": [
    "## Prepare submission\n",
    "\n",
    "We first check the contents of the two files we have created, and compress them into a codalab-compatible `submission.zip` file."
   ]
  },
  {
   "cell_type": "code",
   "execution_count": 12,
   "metadata": {
    "colab": {
     "base_uri": "https://localhost:8080/"
    },
    "id": "XbTjeTK5XdFv",
    "outputId": "f174ce67-668e-437d-9bbf-bda793d32f05"
   },
   "outputs": [
    {
     "name": "stdout",
     "output_type": "stream",
     "text": [
      "1\r\n",
      "0\r\n",
      "0\r\n",
      "1\r\n",
      "0\r\n",
      "1\r\n",
      "0\r\n",
      "0\r\n",
      "0\r\n",
      "0\r\n"
     ]
    }
   ],
   "source": [
    "!cat task1.txt | head -n 10"
   ]
  },
  {
   "cell_type": "code",
   "execution_count": null,
   "metadata": {
    "colab": {
     "base_uri": "https://localhost:8080/"
    },
    "id": "1-tAg7w2Xet7",
    "outputId": "ecdc2886-a860-49e1-9706-76f4942eeb1e"
   },
   "outputs": [
    {
     "name": "stdout",
     "output_type": "stream",
     "text": [
      "1,1,1,1,1,1,1\n",
      "0,0,0,0,0,1,0\n",
      "0,1,1,0,0,0,1\n",
      "1,0,0,0,1,1,0\n",
      "0,0,0,1,1,0,0\n",
      "1,0,0,1,1,1,0\n",
      "0,0,1,0,0,1,0\n",
      "1,1,1,1,0,1,1\n",
      "1,1,0,0,0,0,0\n",
      "0,1,0,0,0,0,1\n"
     ]
    }
   ],
   "source": [
    "!cat task2.txt | head -n 10"
   ]
  },
  {
   "cell_type": "code",
   "execution_count": 13,
   "metadata": {
    "colab": {
     "base_uri": "https://localhost:8080/"
    },
    "id": "GZDLUcYZbhYg",
    "outputId": "b1bd8b8b-c13f-4f29-f46a-402b6da362eb"
   },
   "outputs": [
    {
     "name": "stdout",
     "output_type": "stream",
     "text": [
      "\tzip warning: name not matched: task2.txt\r\n",
      "  adding: task1.txt (deflated 89%)\r\n"
     ]
    }
   ],
   "source": [
    "# the left pane should now show a file called submission.zip, which you can submit to Codalab\n",
    "!zip submission.zip task1.txt task2.txt"
   ]
  }
 ],
 "metadata": {
  "colab": {
   "collapsed_sections": [],
   "name": "Reconstruct and random baseline train-dev dataset.ipynb",
   "provenance": []
  },
  "kernelspec": {
   "display_name": "Python 3",
   "language": "python",
   "name": "python3"
  },
  "language_info": {
   "codemirror_mode": {
    "name": "ipython",
    "version": 3
   },
   "file_extension": ".py",
   "mimetype": "text/x-python",
   "name": "python",
   "nbconvert_exporter": "python",
   "pygments_lexer": "ipython3",
   "version": "3.8.10"
  }
 },
 "nbformat": 4,
 "nbformat_minor": 1
}
