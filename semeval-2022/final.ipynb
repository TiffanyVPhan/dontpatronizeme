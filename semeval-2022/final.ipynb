{
 "cells": [
  {
   "cell_type": "code",
   "execution_count": 14,
   "metadata": {},
   "outputs": [],
   "source": [
    "import random\n",
    "import os\n",
    "import pandas as pd\n",
    "\n",
    "from urllib import request\n",
    "from dont_patronize_me import DontPatronizeMe"
   ]
  },
  {
   "cell_type": "code",
   "execution_count": 17,
   "metadata": {},
   "outputs": [
    {
     "name": "stdout",
     "output_type": "stream",
     "text": [
      "      par_id                  label\n",
      "0       4341  [1, 0, 0, 1, 0, 0, 0]\n",
      "1       4136  [0, 1, 0, 0, 0, 0, 0]\n",
      "2      10352  [1, 0, 0, 0, 0, 1, 0]\n",
      "3       8279  [0, 0, 0, 1, 0, 0, 0]\n",
      "4       1164  [1, 0, 0, 1, 1, 1, 0]\n",
      "...      ...                    ...\n",
      "8370    8380  [0, 0, 0, 0, 0, 0, 0]\n",
      "8371    8381  [0, 0, 0, 0, 0, 0, 0]\n",
      "8372    8382  [0, 0, 0, 0, 0, 0, 0]\n",
      "8373    8383  [0, 0, 0, 0, 0, 0, 0]\n",
      "8374    8384  [0, 0, 0, 0, 0, 0, 0]\n",
      "\n",
      "[8375 rows x 2 columns]\n"
     ]
    }
   ],
   "source": [
    "# Initialize a dpm (Don't Patronize Me) object.\n",
    "# It takes two areguments as input: \n",
    "# (1) Path to the directory containing the training set files, which is the root directory of this notebook.\n",
    "# (2) Path to the test set, which will be released when the evaluation phase begins. In this example, \n",
    "# we use the dataset for Subtask 1, which the code will load without labels.\n",
    "data = DontPatronizeMe('.', 'dontpatronizeme_pcl.tsv')\n",
    "\n",
    "data.load_task1()\n",
    "# print(data.train_task1_df[0:6])\n",
    "\n",
    "dev_parids = pd.read_csv('./practice splits/dev_semeval_parids-labels.csv')\n",
    "train_parids = pd.read_csv('./practice splits/train_semeval_parids-labels.csv')\n",
    "print(train_parids)"
   ]
  }
 ],
 "metadata": {
  "kernelspec": {
   "display_name": "Python 3.8.5 64-bit",
   "language": "python",
   "name": "python38564bit1fe0d56b0a514eab8a0185cdc5418902"
  },
  "language_info": {
   "codemirror_mode": {
    "name": "ipython",
    "version": 3
   },
   "file_extension": ".py",
   "mimetype": "text/x-python",
   "name": "python",
   "nbconvert_exporter": "python",
   "pygments_lexer": "ipython3",
   "version": "3.8.10"
  }
 },
 "nbformat": 4,
 "nbformat_minor": 4
}
